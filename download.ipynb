{
 "cells": [
  {
   "cell_type": "code",
   "execution_count": null,
   "id": "2373c4b0",
   "metadata": {},
   "outputs": [],
   "source": [
    "import requests\n",
    "\n",
    "url = \"https://letsenhance.io/static/73136da51c245e80edc6ccfe44888a99/1015f/MainBefore.jpg\"\n",
    "\n",
    "response = requests.get(url)\n",
    "\n",
    "if response.status_code == 200:\n",
    "    with open(\"example.jpg\", \"wb\") as file:\n",
    "        file.write(response.content)\n",
    "    print(\"Imagem salva como 'example.jpg'\")\n",
    "else:\n",
    "    print(f\"Falha ao baixar a imagem. Código de status: {response.status_code}\")"
   ]
  }
 ],
 "metadata": {
  "language_info": {
   "name": "python"
  }
 },
 "nbformat": 4,
 "nbformat_minor": 5
}
