{
 "cells": [
  {
   "cell_type": "code",
   "execution_count": 1,
   "id": "2373c4b0",
   "metadata": {},
   "outputs": [
    {
     "name": "stdout",
     "output_type": "stream",
     "text": [
      "Imagem salva como 'example.jpg'\n"
     ]
    }
   ],
   "source": [
    "import requests\n",
    "\n",
    "url = \"https://letsenhance.io/static/73136da51c245e80edc6ccfe44888a99/1015f/MainBefore.jpg\"\n",
    "\n",
    "response = requests.get(url)\n",
    "\n",
    "if response.status_code == 200:\n",
    "    with open(\"example.jpg\", \"wb\") as file:\n",
    "        file.write(response.content)\n",
    "    print(\"Imagem salva como 'example.jpg'\")\n",
    "else:\n",
    "    print(f\"Falha ao baixar a imagem. Código de status: {response.status_code}\")"
   ]
  }
 ],
 "metadata": {
  "kernelspec": {
   "display_name": "Python 3",
   "language": "python",
   "name": "python3"
  },
  "language_info": {
   "codemirror_mode": {
    "name": "ipython",
    "version": 3
   },
   "file_extension": ".py",
   "mimetype": "text/x-python",
   "name": "python",
   "nbconvert_exporter": "python",
   "pygments_lexer": "ipython3",
   "version": "3.12.3"
  }
 },
 "nbformat": 4,
 "nbformat_minor": 5
}
