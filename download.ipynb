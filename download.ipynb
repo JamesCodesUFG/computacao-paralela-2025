{
 "cells": [
  {
   "cell_type": "markdown",
   "id": "700976b7",
   "metadata": {},
   "source": [
    "### 1280x720"
   ]
  },
  {
   "cell_type": "code",
   "execution_count": 1,
   "id": "2373c4b0",
   "metadata": {},
   "outputs": [
    {
     "name": "stdout",
     "output_type": "stream",
     "text": [
      "Imagem salva como 'example.jpg'\n"
     ]
    }
   ],
   "source": [
    "import requests\n",
    "\n",
    "url = \"https://letsenhance.io/static/73136da51c245e80edc6ccfe44888a99/1015f/MainBefore.jpg\"\n",
    "\n",
    "response = requests.get(url)\n",
    "\n",
    "if response.status_code == 200:\n",
    "    with open(\"example.jpg\", \"wb\") as file:\n",
    "        file.write(response.content)\n",
    "    print(\"Imagem salva como 'example.jpg'\")\n",
    "else:\n",
    "    print(f\"Falha ao baixar a imagem. Código de status: {response.status_code}\")"
   ]
  },
  {
   "cell_type": "markdown",
   "id": "3b631490",
   "metadata": {},
   "source": [
    "### 2560x1440"
   ]
  },
  {
   "cell_type": "code",
   "execution_count": 3,
   "id": "9102fe22",
   "metadata": {},
   "outputs": [
    {
     "name": "stdout",
     "output_type": "stream",
     "text": [
      "Imagem salva com sucesso.\n"
     ]
    }
   ],
   "source": [
    "import requests\n",
    "\n",
    "url = \"https://wallpapercg.com/download/symmetry-2560x1440-7762.jpg\"\n",
    "\n",
    "response = requests.get(url)\n",
    "\n",
    "if response.status_code == 200:\n",
    "    with open(\"2560x1440.jpg\", \"wb\") as file:\n",
    "        file.write(response.content)\n",
    "    print(\"Imagem salva com sucesso.\")\n",
    "else:\n",
    "    print(f\"Falha ao baixar a imagem. Código de status: {response.status_code}\")"
   ]
  },
  {
   "cell_type": "markdown",
   "id": "81da6177",
   "metadata": {},
   "source": [
    "### 3840x2160"
   ]
  },
  {
   "cell_type": "code",
   "execution_count": 5,
   "id": "222457e8",
   "metadata": {},
   "outputs": [
    {
     "name": "stdout",
     "output_type": "stream",
     "text": [
      "Imagem salva com sucesso.\n"
     ]
    }
   ],
   "source": [
    "import requests\n",
    "\n",
    "url = \"https://images3.alphacoders.com/132/1322308.jpeg\"\n",
    "\n",
    "response = requests.get(url)\n",
    "\n",
    "if response.status_code == 200:\n",
    "    with open(\"3840x2160.jpg\", \"wb\") as file:\n",
    "        file.write(response.content)\n",
    "    print(\"Imagem salva com sucesso.\")\n",
    "else:\n",
    "    print(f\"Falha ao baixar a imagem. Código de status: {response.status_code}\")"
   ]
  },
  {
   "cell_type": "markdown",
   "id": "23f2da08",
   "metadata": {},
   "source": [
    "### 7680x4320"
   ]
  },
  {
   "cell_type": "code",
   "execution_count": 4,
   "id": "1a9ba018",
   "metadata": {},
   "outputs": [
    {
     "name": "stdout",
     "output_type": "stream",
     "text": [
      "Imagem salva com sucesso.\n"
     ]
    }
   ],
   "source": [
    "import requests\n",
    "\n",
    "url = \"https://pixelz.cc/wp-content/uploads/2017/10/dark-souls-dark-knight-uhd-8k-wallpaper.jpg\"\n",
    "\n",
    "response = requests.get(url)\n",
    "\n",
    "if response.status_code == 200:\n",
    "    with open(\"7680x4320.jpg\", \"wb\") as file:\n",
    "        file.write(response.content)\n",
    "    print(\"Imagem salva com sucesso.\")\n",
    "else:\n",
    "    print(f\"Falha ao baixar a imagem. Código de status: {response.status_code}\")"
   ]
  }
 ],
 "metadata": {
  "kernelspec": {
   "display_name": "Python 3",
   "language": "python",
   "name": "python3"
  },
  "language_info": {
   "codemirror_mode": {
    "name": "ipython",
    "version": 3
   },
   "file_extension": ".py",
   "mimetype": "text/x-python",
   "name": "python",
   "nbconvert_exporter": "python",
   "pygments_lexer": "ipython3",
   "version": "3.12.10"
  }
 },
 "nbformat": 4,
 "nbformat_minor": 5
}
