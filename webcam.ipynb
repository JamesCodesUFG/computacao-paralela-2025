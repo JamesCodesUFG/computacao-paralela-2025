{
 "cells": [
  {
   "cell_type": "code",
   "execution_count": 1,
   "id": "aa0ee548",
   "metadata": {},
   "outputs": [],
   "source": [
    "import numpy as np\n",
    "\n",
    "from PIL import Image"
   ]
  },
  {
   "cell_type": "code",
   "execution_count": 2,
   "id": "feae3414",
   "metadata": {},
   "outputs": [],
   "source": [
    "img_name = 'filter/filter_01.jpg'\n",
    "\n",
    "img_filter = Image.open(img_name)\n",
    "\n",
    "filter_arr = np.array(img_filter, dtype=float)"
   ]
  },
  {
   "cell_type": "code",
   "execution_count": 3,
   "id": "0a97bb2b",
   "metadata": {},
   "outputs": [],
   "source": [
    "filter_arr = np.array(filter_arr, dtype=np.uint8)\n",
    "\n",
    "filter_arr = np.transpose(filter_arr, (2, 1, 0))"
   ]
  },
  {
   "cell_type": "code",
   "execution_count": 4,
   "id": "dd7a34b4",
   "metadata": {},
   "outputs": [],
   "source": [
    "_, H, W = filter_arr.shape\n",
    "\n",
    "fft_filter = np.array([np.empty((H, W))] * 3, dtype=complex)\n",
    "\n",
    "for channel in range(3):\n",
    "    fft_filter_channel = np.fft.fft2(filter_arr[channel])\n",
    "\n",
    "    fft_filter[channel] = np.fft.fftshift(fft_filter_channel)"
   ]
  },
  {
   "cell_type": "markdown",
   "id": "d304c58d",
   "metadata": {},
   "source": [
    "# CPU Image Processing"
   ]
  },
  {
   "cell_type": "code",
   "execution_count": null,
   "id": "68d4d2f8",
   "metadata": {},
   "outputs": [],
   "source": [
    "def normalize_array(array: np.array):\n",
    "    magnitude_norm = 255 * (array / np.max(array))\n",
    "    \n",
    "    return magnitude_norm.astype(np.uint8)\n",
    "\n",
    "\n",
    "def process_image_cpu(array: np.array):\n",
    "    fft_img = np.empty_like(array, dtype=complex)\n",
    "\n",
    "    for  channel in range(3):\n",
    "        fft_array = np.fft.fft2(array[channel])\n",
    "\n",
    "        fft_array = np.fft.fftshift(fft_array)\n",
    "\n",
    "        fft_img[channel] = fft_array #* fft_filter[channel]\n",
    "\n",
    "    return normalize_array(fft_img)"
   ]
  },
  {
   "cell_type": "markdown",
   "id": "3a596bb7",
   "metadata": {},
   "source": [
    "# GPU Image Processing"
   ]
  },
  {
   "cell_type": "code",
   "execution_count": 6,
   "id": "a94109ac",
   "metadata": {},
   "outputs": [],
   "source": [
    "def process_image_gpu(array: np.array):\n",
    "    pass"
   ]
  },
  {
   "cell_type": "markdown",
   "id": "94de15ca",
   "metadata": {},
   "source": [
    "# Webcam"
   ]
  },
  {
   "cell_type": "code",
   "execution_count": null,
   "id": "6cd64de8",
   "metadata": {},
   "outputs": [
    {
     "name": "stdout",
     "output_type": "stream",
     "text": [
      "(3, 1280, 720)\n"
     ]
    },
    {
     "name": "stderr",
     "output_type": "stream",
     "text": [
      "C:\\Users\\tiago\\AppData\\Local\\Temp\\ipykernel_40828\\2070708645.py:3: ComplexWarning: Casting complex values to real discards the imaginary part\n",
      "  return magnitude_norm.astype(np.uint8)\n"
     ]
    },
    {
     "ename": "error",
     "evalue": "OpenCV(4.11.0) D:\\a\\opencv-python\\opencv-python\\opencv\\modules\\highgui\\src\\window_w32.cpp:124: error: (-215:Assertion failed) bmi && width >= 0 && height >= 0 && (bpp == 8 || bpp == 24 || bpp == 32) in function 'FillBitmapInfo'\n",
     "output_type": "error",
     "traceback": [
      "\u001b[31m---------------------------------------------------------------------------\u001b[39m",
      "\u001b[31merror\u001b[39m                                     Traceback (most recent call last)",
      "\u001b[36mCell\u001b[39m\u001b[36m \u001b[39m\u001b[32mIn[7]\u001b[39m\u001b[32m, line 32\u001b[39m\n\u001b[32m     29\u001b[39m     \u001b[38;5;28;01mif\u001b[39;00m \u001b[38;5;129;01mnot\u001b[39;00m status \u001b[38;5;129;01mor\u001b[39;00m cv.waitKey(\u001b[32m1\u001b[39m) & \u001b[32m0xff\u001b[39m == \u001b[38;5;28mord\u001b[39m(\u001b[33m'\u001b[39m\u001b[33mq\u001b[39m\u001b[33m'\u001b[39m):\n\u001b[32m     30\u001b[39m         \u001b[38;5;28;01mbreak\u001b[39;00m\n\u001b[32m---> \u001b[39m\u001b[32m32\u001b[39m     \u001b[43mcv\u001b[49m\u001b[43m.\u001b[49m\u001b[43mimshow\u001b[49m\u001b[43m(\u001b[49m\u001b[33;43m\"\u001b[39;49m\u001b[33;43mCamera\u001b[39;49m\u001b[33;43m\"\u001b[39;49m\u001b[43m,\u001b[49m\u001b[43m \u001b[49m\u001b[43marray\u001b[49m\u001b[43m)\u001b[49m\n\u001b[32m     34\u001b[39m camera.release()\n\u001b[32m     36\u001b[39m cv.destroyAllWindows()\n",
      "\u001b[31merror\u001b[39m: OpenCV(4.11.0) D:\\a\\opencv-python\\opencv-python\\opencv\\modules\\highgui\\src\\window_w32.cpp:124: error: (-215:Assertion failed) bmi && width >= 0 && height >= 0 && (bpp == 8 || bpp == 24 || bpp == 32) in function 'FillBitmapInfo'\n"
     ]
    }
   ],
   "source": [
    "import cv2 as cv\n",
    "\n",
    "camera = cv.VideoCapture(0)\n",
    "\n",
    "camera.set(cv.CAP_PROP_FRAME_WIDTH, 1280)\n",
    "camera.set(cv.CAP_PROP_FRAME_HEIGHT, 720)\n",
    "\n",
    "if not camera.isOpened():\n",
    "    print(\"Error opening camera.\")\n",
    "    exit()\n",
    "\n",
    "while True:\n",
    "    status, frame = camera.read()\n",
    "\n",
    "    try:\n",
    "        array = np.array(frame, dtype=np.uint8)\n",
    "\n",
    "        array = np.transpose(array, (2, 1, 0))\n",
    "\n",
    "        array = process_image_cpu(array)\n",
    "        #array = process_image_gpu(array)\n",
    "\n",
    "        array = np.transpose(array, (2, 1, 0))\n",
    "\n",
    "        print(array.shape)\n",
    "    except Exception as e:\n",
    "        continue\n",
    "\n",
    "    if not status or cv.waitKey(1) & 0xff == ord('q'):\n",
    "        break\n",
    "\n",
    "    cv.imshow(\"Camera\", array)\n",
    "\n",
    "camera.release()\n",
    "\n",
    "cv.destroyAllWindows()"
   ]
  },
  {
   "cell_type": "code",
   "execution_count": null,
   "id": "0e52fa9a",
   "metadata": {},
   "outputs": [],
   "source": []
  }
 ],
 "metadata": {
  "kernelspec": {
   "display_name": "Python 3",
   "language": "python",
   "name": "python3"
  },
  "language_info": {
   "codemirror_mode": {
    "name": "ipython",
    "version": 3
   },
   "file_extension": ".py",
   "mimetype": "text/x-python",
   "name": "python",
   "nbconvert_exporter": "python",
   "pygments_lexer": "ipython3",
   "version": "3.12.10"
  }
 },
 "nbformat": 4,
 "nbformat_minor": 5
}
