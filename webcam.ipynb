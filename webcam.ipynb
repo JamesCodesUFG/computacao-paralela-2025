{
 "cells": [
  {
   "cell_type": "code",
   "execution_count": 1,
   "id": "aa0ee548",
   "metadata": {},
   "outputs": [],
   "source": [
    "import numpy as np\n",
    "\n",
    "from PIL import Image"
   ]
  },
  {
   "cell_type": "code",
   "execution_count": 2,
   "id": "feae3414",
   "metadata": {},
   "outputs": [],
   "source": [
    "img_name = 'filter/filter_01.jpg'\n",
    "\n",
    "img_filter = Image.open(img_name)\n",
    "\n",
    "filter_arr = np.array(img_filter, dtype=float)"
   ]
  },
  {
   "cell_type": "code",
   "execution_count": 3,
   "id": "0a97bb2b",
   "metadata": {},
   "outputs": [],
   "source": [
    "filter_arr = np.array(filter_arr, dtype=np.uint8)\n",
    "\n",
    "filter_arr = np.transpose(filter_arr, (2, 1, 0))"
   ]
  },
  {
   "cell_type": "code",
   "execution_count": 4,
   "id": "dd7a34b4",
   "metadata": {},
   "outputs": [],
   "source": [
    "_, H, W = filter_arr.shape\n",
    "\n",
    "fft_filter = np.array([np.empty((H, W))] * 3, dtype=complex)\n",
    "\n",
    "for channel in range(3):\n",
    "    fft_filter_channel = np.fft.fft2(filter_arr[channel])\n",
    "\n",
    "    fft_filter[channel] = np.fft.fftshift(fft_filter_channel)"
   ]
  },
  {
   "cell_type": "markdown",
   "id": "d304c58d",
   "metadata": {},
   "source": [
    "# CPU Image Processing"
   ]
  },
  {
   "cell_type": "code",
   "execution_count": 5,
   "id": "68d4d2f8",
   "metadata": {},
   "outputs": [],
   "source": [
    "def normalize_array(array: np.array):\n",
    "    magnitude_norm = 255 * (array / np.max(array))\n",
    "\n",
    "    return magnitude_norm.astype(np.uint8)\n",
    "\n",
    "\n",
    "def process_image_cpu(array: np.array):\n",
    "    fft_img = np.empty_like(array, dtype=complex)\n",
    "\n",
    "    for  channel in range(3):\n",
    "        fft_array = np.fft.fft2(array[channel])\n",
    "\n",
    "        fft_array = np.fft.fftshift(fft_array)\n",
    "\n",
    "        fft_img[channel] = fft_array + fft_filter[channel]\n",
    "\n",
    "        f = np.fft.ifftshift(fft_img[channel])\n",
    "\n",
    "        fft_img[channel] = np.fft.ifft2(f).real\n",
    "\n",
    "    return normalize_array(fft_img)"
   ]
  },
  {
   "cell_type": "markdown",
   "id": "3a596bb7",
   "metadata": {},
   "source": [
    "# GPU Image Processing"
   ]
  },
  {
   "cell_type": "code",
   "execution_count": 6,
   "id": "a94109ac",
   "metadata": {},
   "outputs": [],
   "source": [
    "def process_image_gpu(array: np.array):\n",
    "    pass"
   ]
  },
  {
   "cell_type": "markdown",
   "id": "94de15ca",
   "metadata": {},
   "source": [
    "# Webcam"
   ]
  },
  {
   "cell_type": "code",
   "execution_count": 7,
   "id": "6cd64de8",
   "metadata": {},
   "outputs": [
    {
     "name": "stderr",
     "output_type": "stream",
     "text": [
      "C:\\Users\\tiago\\AppData\\Local\\Temp\\ipykernel_32988\\246209646.py:4: ComplexWarning: Casting complex values to real discards the imaginary part\n",
      "  return magnitude_norm.astype(np.uint8)\n"
     ]
    },
    {
     "ename": "KeyboardInterrupt",
     "evalue": "",
     "output_type": "error",
     "traceback": [
      "\u001b[31m---------------------------------------------------------------------------\u001b[39m",
      "\u001b[31mKeyboardInterrupt\u001b[39m                         Traceback (most recent call last)",
      "\u001b[36mCell\u001b[39m\u001b[36m \u001b[39m\u001b[32mIn[7]\u001b[39m\u001b[32m, line 20\u001b[39m\n\u001b[32m     16\u001b[39m array = np.array(frame, dtype=np.uint8)\n\u001b[32m     18\u001b[39m array = np.transpose(array, (\u001b[32m2\u001b[39m, \u001b[32m1\u001b[39m, \u001b[32m0\u001b[39m))\n\u001b[32m---> \u001b[39m\u001b[32m20\u001b[39m array = \u001b[43mprocess_image_cpu\u001b[49m\u001b[43m(\u001b[49m\u001b[43marray\u001b[49m\u001b[43m)\u001b[49m\n\u001b[32m     21\u001b[39m \u001b[38;5;66;03m#array = process_image_gpu(array)\u001b[39;00m\n\u001b[32m     23\u001b[39m array = np.transpose(array, (\u001b[32m2\u001b[39m, \u001b[32m1\u001b[39m, \u001b[32m0\u001b[39m))\n",
      "\u001b[36mCell\u001b[39m\u001b[36m \u001b[39m\u001b[32mIn[5]\u001b[39m\u001b[32m, line 19\u001b[39m, in \u001b[36mprocess_image_cpu\u001b[39m\u001b[34m(array)\u001b[39m\n\u001b[32m     15\u001b[39m     fft_img[channel] = fft_array + fft_filter[channel]\n\u001b[32m     17\u001b[39m     f = np.fft.ifftshift(fft_img[channel])\n\u001b[32m---> \u001b[39m\u001b[32m19\u001b[39m     fft_img[channel] = \u001b[43mnp\u001b[49m\u001b[43m.\u001b[49m\u001b[43mfft\u001b[49m\u001b[43m.\u001b[49m\u001b[43mifft2\u001b[49m\u001b[43m(\u001b[49m\u001b[43mf\u001b[49m\u001b[43m)\u001b[49m.real\n\u001b[32m     21\u001b[39m \u001b[38;5;28;01mreturn\u001b[39;00m normalize_array(fft_img)\n",
      "\u001b[36mFile \u001b[39m\u001b[32mc:\\Users\\tiago\\AppData\\Local\\Programs\\Python\\Python312\\Lib\\site-packages\\numpy\\fft\\_pocketfft.py:1257\u001b[39m, in \u001b[36mifft2\u001b[39m\u001b[34m(a, s, axes, norm, out)\u001b[39m\n\u001b[32m   1138\u001b[39m \u001b[38;5;129m@array_function_dispatch\u001b[39m(_fftn_dispatcher)\n\u001b[32m   1139\u001b[39m \u001b[38;5;28;01mdef\u001b[39;00m\u001b[38;5;250m \u001b[39m\u001b[34mifft2\u001b[39m(a, s=\u001b[38;5;28;01mNone\u001b[39;00m, axes=(-\u001b[32m2\u001b[39m, -\u001b[32m1\u001b[39m), norm=\u001b[38;5;28;01mNone\u001b[39;00m, out=\u001b[38;5;28;01mNone\u001b[39;00m):\n\u001b[32m   1140\u001b[39m \u001b[38;5;250m    \u001b[39m\u001b[33;03m\"\"\"\u001b[39;00m\n\u001b[32m   1141\u001b[39m \u001b[33;03m    Compute the 2-dimensional inverse discrete Fourier Transform.\u001b[39;00m\n\u001b[32m   1142\u001b[39m \n\u001b[32m   (...)\u001b[39m\u001b[32m   1255\u001b[39m \n\u001b[32m   1256\u001b[39m \u001b[33;03m    \"\"\"\u001b[39;00m\n\u001b[32m-> \u001b[39m\u001b[32m1257\u001b[39m     \u001b[38;5;28;01mreturn\u001b[39;00m \u001b[43m_raw_fftnd\u001b[49m\u001b[43m(\u001b[49m\u001b[43ma\u001b[49m\u001b[43m,\u001b[49m\u001b[43m \u001b[49m\u001b[43ms\u001b[49m\u001b[43m,\u001b[49m\u001b[43m \u001b[49m\u001b[43maxes\u001b[49m\u001b[43m,\u001b[49m\u001b[43m \u001b[49m\u001b[43mifft\u001b[49m\u001b[43m,\u001b[49m\u001b[43m \u001b[49m\u001b[43mnorm\u001b[49m\u001b[43m,\u001b[49m\u001b[43m \u001b[49m\u001b[43mout\u001b[49m\u001b[43m=\u001b[49m\u001b[38;5;28;43;01mNone\u001b[39;49;00m\u001b[43m)\u001b[49m\n",
      "\u001b[36mFile \u001b[39m\u001b[32mc:\\Users\\tiago\\AppData\\Local\\Programs\\Python\\Python312\\Lib\\site-packages\\numpy\\fft\\_pocketfft.py:741\u001b[39m, in \u001b[36m_raw_fftnd\u001b[39m\u001b[34m(a, s, axes, function, norm, out)\u001b[39m\n\u001b[32m    739\u001b[39m itl.reverse()\n\u001b[32m    740\u001b[39m \u001b[38;5;28;01mfor\u001b[39;00m ii \u001b[38;5;129;01min\u001b[39;00m itl:\n\u001b[32m--> \u001b[39m\u001b[32m741\u001b[39m     a = \u001b[43mfunction\u001b[49m\u001b[43m(\u001b[49m\u001b[43ma\u001b[49m\u001b[43m,\u001b[49m\u001b[43m \u001b[49m\u001b[43mn\u001b[49m\u001b[43m=\u001b[49m\u001b[43ms\u001b[49m\u001b[43m[\u001b[49m\u001b[43mii\u001b[49m\u001b[43m]\u001b[49m\u001b[43m,\u001b[49m\u001b[43m \u001b[49m\u001b[43maxis\u001b[49m\u001b[43m=\u001b[49m\u001b[43maxes\u001b[49m\u001b[43m[\u001b[49m\u001b[43mii\u001b[49m\u001b[43m]\u001b[49m\u001b[43m,\u001b[49m\u001b[43m \u001b[49m\u001b[43mnorm\u001b[49m\u001b[43m=\u001b[49m\u001b[43mnorm\u001b[49m\u001b[43m,\u001b[49m\u001b[43m \u001b[49m\u001b[43mout\u001b[49m\u001b[43m=\u001b[49m\u001b[43mout\u001b[49m\u001b[43m)\u001b[49m\n\u001b[32m    742\u001b[39m \u001b[38;5;28;01mreturn\u001b[39;00m a\n",
      "\u001b[36mFile \u001b[39m\u001b[32mc:\\Users\\tiago\\AppData\\Local\\Programs\\Python\\Python312\\Lib\\site-packages\\numpy\\fft\\_pocketfft.py:314\u001b[39m, in \u001b[36mifft\u001b[39m\u001b[34m(a, n, axis, norm, out)\u001b[39m\n\u001b[32m    312\u001b[39m \u001b[38;5;28;01mif\u001b[39;00m n \u001b[38;5;129;01mis\u001b[39;00m \u001b[38;5;28;01mNone\u001b[39;00m:\n\u001b[32m    313\u001b[39m     n = a.shape[axis]\n\u001b[32m--> \u001b[39m\u001b[32m314\u001b[39m output = \u001b[43m_raw_fft\u001b[49m\u001b[43m(\u001b[49m\u001b[43ma\u001b[49m\u001b[43m,\u001b[49m\u001b[43m \u001b[49m\u001b[43mn\u001b[49m\u001b[43m,\u001b[49m\u001b[43m \u001b[49m\u001b[43maxis\u001b[49m\u001b[43m,\u001b[49m\u001b[43m \u001b[49m\u001b[38;5;28;43;01mFalse\u001b[39;49;00m\u001b[43m,\u001b[49m\u001b[43m \u001b[49m\u001b[38;5;28;43;01mFalse\u001b[39;49;00m\u001b[43m,\u001b[49m\u001b[43m \u001b[49m\u001b[43mnorm\u001b[49m\u001b[43m,\u001b[49m\u001b[43m \u001b[49m\u001b[43mout\u001b[49m\u001b[43m=\u001b[49m\u001b[43mout\u001b[49m\u001b[43m)\u001b[49m\n\u001b[32m    315\u001b[39m \u001b[38;5;28;01mreturn\u001b[39;00m output\n",
      "\u001b[36mFile \u001b[39m\u001b[32mc:\\Users\\tiago\\AppData\\Local\\Programs\\Python\\Python312\\Lib\\site-packages\\numpy\\fft\\_pocketfft.py:94\u001b[39m, in \u001b[36m_raw_fft\u001b[39m\u001b[34m(a, n, axis, is_real, is_forward, norm, out)\u001b[39m\n\u001b[32m     90\u001b[39m \u001b[38;5;28;01melif\u001b[39;00m ((shape := \u001b[38;5;28mgetattr\u001b[39m(out, \u001b[33m\"\u001b[39m\u001b[33mshape\u001b[39m\u001b[33m\"\u001b[39m, \u001b[38;5;28;01mNone\u001b[39;00m)) \u001b[38;5;129;01mis\u001b[39;00m \u001b[38;5;129;01mnot\u001b[39;00m \u001b[38;5;28;01mNone\u001b[39;00m\n\u001b[32m     91\u001b[39m       \u001b[38;5;129;01mand\u001b[39;00m (\u001b[38;5;28mlen\u001b[39m(shape) != a.ndim \u001b[38;5;129;01mor\u001b[39;00m shape[axis] != n_out)):\n\u001b[32m     92\u001b[39m     \u001b[38;5;28;01mraise\u001b[39;00m \u001b[38;5;167;01mValueError\u001b[39;00m(\u001b[33m\"\u001b[39m\u001b[33moutput array has wrong shape.\u001b[39m\u001b[33m\"\u001b[39m)\n\u001b[32m---> \u001b[39m\u001b[32m94\u001b[39m \u001b[38;5;28;01mreturn\u001b[39;00m \u001b[43mufunc\u001b[49m\u001b[43m(\u001b[49m\u001b[43ma\u001b[49m\u001b[43m,\u001b[49m\u001b[43m \u001b[49m\u001b[43mfct\u001b[49m\u001b[43m,\u001b[49m\u001b[43m \u001b[49m\u001b[43maxes\u001b[49m\u001b[43m=\u001b[49m\u001b[43m[\u001b[49m\u001b[43m(\u001b[49m\u001b[43maxis\u001b[49m\u001b[43m,\u001b[49m\u001b[43m)\u001b[49m\u001b[43m,\u001b[49m\u001b[43m \u001b[49m\u001b[43m(\u001b[49m\u001b[43m)\u001b[49m\u001b[43m,\u001b[49m\u001b[43m \u001b[49m\u001b[43m(\u001b[49m\u001b[43maxis\u001b[49m\u001b[43m,\u001b[49m\u001b[43m)\u001b[49m\u001b[43m]\u001b[49m\u001b[43m,\u001b[49m\u001b[43m \u001b[49m\u001b[43mout\u001b[49m\u001b[43m=\u001b[49m\u001b[43mout\u001b[49m\u001b[43m)\u001b[49m\n",
      "\u001b[31mKeyboardInterrupt\u001b[39m: "
     ]
    }
   ],
   "source": [
    "import cv2 as cv\n",
    "\n",
    "camera = cv.VideoCapture(0)\n",
    "\n",
    "camera.set(cv.CAP_PROP_FRAME_WIDTH, 1280)\n",
    "camera.set(cv.CAP_PROP_FRAME_HEIGHT, 720)\n",
    "\n",
    "if not camera.isOpened():\n",
    "    print(\"Error opening camera.\")\n",
    "    exit()\n",
    "\n",
    "while True:\n",
    "    status, frame = camera.read()\n",
    "\n",
    "    try:\n",
    "        array = np.array(frame, dtype=np.uint8)\n",
    "\n",
    "        array = np.transpose(array, (2, 1, 0))\n",
    "\n",
    "        array = process_image_cpu(array)\n",
    "        #array = process_image_gpu(array)\n",
    "\n",
    "        array = np.transpose(array, (2, 1, 0))\n",
    "    except Exception as e:\n",
    "        continue\n",
    "\n",
    "    if not status or cv.waitKey(1) & 0xff == ord('q'):\n",
    "        break\n",
    "\n",
    "    cv.imshow(\"Camera\", array)\n",
    "\n",
    "camera.release()\n",
    "\n",
    "cv.destroyAllWindows()"
   ]
  }
 ],
 "metadata": {
  "kernelspec": {
   "display_name": "Python 3",
   "language": "python",
   "name": "python3"
  },
  "language_info": {
   "codemirror_mode": {
    "name": "ipython",
    "version": 3
   },
   "file_extension": ".py",
   "mimetype": "text/x-python",
   "name": "python",
   "nbconvert_exporter": "python",
   "pygments_lexer": "ipython3",
   "version": "3.12.10"
  }
 },
 "nbformat": 4,
 "nbformat_minor": 5
}
